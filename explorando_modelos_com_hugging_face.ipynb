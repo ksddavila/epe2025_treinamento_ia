{
  "nbformat": 4,
  "nbformat_minor": 0,
  "metadata": {
    "colab": {
      "provenance": [],
      "gpuType": "T4"
    },
    "kernelspec": {
      "name": "python3",
      "display_name": "Python 3"
    },
    "language_info": {
      "name": "python"
    },
    "accelerator": "GPU"
  },
  "cells": [
    {
      "cell_type": "code",
      "execution_count": null,
      "metadata": {
        "id": "uya6LULUETeh"
      },
      "outputs": [],
      "source": [
        "# 📘 Notebook Interativo: Explorando Modelos de Inteligência Artificial com Hugging Face 🤗\n",
        "\n",
        "from transformers import pipeline\n",
        "from IPython.display import display, Markdown"
      ]
    },
    {
      "cell_type": "markdown",
      "source": [
        "# 🤗 O que é a Hugging Face?\n",
        "\n",
        "A [Hugging Face](https://huggingface.co/) é uma plataforma que disponibiliza modelos prontos de inteligência artificial (IA) para várias tarefas, como gerar textos, responder perguntas, traduzir idiomas, analisar sentimentos, entre outras.\n",
        "\n",
        "Você pode usar esses modelos **diretamente com poucas linhas de código**, sem precisar treiná-los do zero. Eles já vêm \"inteligentes\" porque foram treinados com grandes volumes de dados.\n",
        "\n",
        "Neste notebook, vamos testar **4 tarefas de IA** usando modelos da Hugging Face:\n",
        "1. Geração de texto\n",
        "2. Análise de sentimento\n",
        "3. Perguntas e respostas\n",
        "4. Classificação de resenhas\n",
        "\n",
        "Todos os modelos utilizados estão disponíveis gratuitamente na plataforma."
      ],
      "metadata": {
        "id": "7xURMJrPE61K"
      }
    },
    {
      "cell_type": "code",
      "source": [
        "# --- 1. Geração de texto ---\n",
        "\n",
        "# 📌 Tarefa: continuar frases de forma criativa e coerente.\n",
        "# 🧠 Modelo: pierreguillou/gpt2-small-portuguese (uma versão do GPT-2 treinada com textos em português)\n",
        "# 🔗 Link: https://huggingface.co/pierreguillou/gpt2-small-portuguese\n",
        "\n",
        "generator = pipeline(\"text-generation\", model=\"pierreguillou/gpt2-small-portuguese\")\n",
        "\n",
        "prompt1 = \"Uma mulher estratégica decide aprender IA porque\"\n",
        "\n",
        "resposta1 = generator(\n",
        "    prompt1,\n",
        "    max_length=100,\n",
        "    num_return_sequences=1,\n",
        "    do_sample=True,\n",
        "    temperature=0.1,   # Mais criativo, mas ainda coerente\n",
        "    top_k=10,          # Considera só os n tokens mais prováveis\n",
        "    top_p=0.95         # Ou os tokens que somam 95% de chance\n",
        ")[0]['generated_text']\n",
        "\n",
        "display(Markdown(\n",
        "    f\"### 📝 Geração de Texto\\n\"\n",
        "    f\"**Modelo:** [pierreguillou/gpt2-small-portuguese](https://huggingface.co/pierreguillou/gpt2-small-portuguese)<br>\"\n",
        "    f\"**Prompt dado:** {prompt1}<br>\"\n",
        "    f\"**Texto gerado:** {resposta1}\"\n",
        "))"
      ],
      "metadata": {
        "id": "zBLi13qTEwI_"
      },
      "execution_count": null,
      "outputs": []
    },
    {
      "cell_type": "code",
      "source": [
        "# --- 2. Análise de Sentimento ---\n",
        "\n",
        "# 📌 Tarefa: dizer se o sentimento do texto é positivo ou negativo.\n",
        "# 🧠 Modelo: nlptown/bert-base-multilingual-uncased-sentiment\n",
        "# 🔗 Link: https://huggingface.co/nlptown/bert-base-multilingual-uncased-sentiment\n",
        "\n",
        "classifier = pipeline(\"sentiment-analysis\", model=\"nlptown/bert-base-multilingual-uncased-sentiment\")\n",
        "texto_sentimento = \"Estou animada com esse novo curso!\"\n",
        "sentimento = classifier(texto_sentimento)[0]\n",
        "\n",
        "display(Markdown(\n",
        "    f\"### 💡 Análise de Sentimento\\n\"\n",
        "    f\"**Modelo:** [nlptown/bert-base-multilingual-uncased-sentiment](https://huggingface.co/nlptown/bert-base-multilingual-uncased-sentiment)<br>\"\n",
        "    f\"**Texto analisado:** {texto_sentimento}<br>\"\n",
        "    f\"**Resultado:** {sentimento}\"\n",
        "))\n"
      ],
      "metadata": {
        "id": "U0OjP-gQE195"
      },
      "execution_count": null,
      "outputs": []
    },
    {
      "cell_type": "code",
      "source": [
        "classifier = pipeline(\"sentiment-analysis\", model=\"distilbert-base-uncased-finetuned-sst-2-english\")\n",
        "texto_sentimento = \"Estou animada com esse novo curso!\"\n",
        "sentimento = classifier(texto_sentimento)[0]\n",
        "\n",
        "display(Markdown(\n",
        "    f\"### 💡 Análise de Sentimento\\n\"\n",
        "    f\"**Modelo:** [distilbert-base-uncased-finetuned-sst-2-english](https://huggingface.co/distilbert-base-uncased-finetuned-sst-2-english)\\n\"\n",
        "    f\"**Texto analisado:** {texto_sentimento}\\n\"\n",
        "    f\"**Resultado:** {sentimento}\"\n",
        "))"
      ],
      "metadata": {
        "id": "GdQXQsWdE3G6"
      },
      "execution_count": null,
      "outputs": []
    },
    {
      "cell_type": "code",
      "source": [
        "# --- 3. Perguntas e Respostas ---\n",
        "\n",
        "# 📌 Tarefa: responder uma pergunta com base em um texto.\n",
        "# 🧠 Modelo: deepset/roberta-base-squad2\n",
        "# 🔗 Link: https://huggingface.co/deepset/roberta-base-squad2\n",
        "\n",
        "qa = pipeline(\"question-answering\", model=\"deepset/roberta-base-squad2\")\n",
        "\n",
        "contexto = \"Albert Einstein foi um físico teórico que desenvolveu a teoria da relatividade.\"\n",
        "pergunta = \"Quem inventou a teoria da relatividade?\"\n",
        "resposta_qa = qa({\"question\": pergunta, \"context\": contexto})\n",
        "\n",
        "display(Markdown(\n",
        "    f\"### ❓ Pergunta e Resposta\\n\"\n",
        "    f\"**Modelo:** [deepset/roberta-base-squad2](https://huggingface.co/deepset/roberta-base-squad2)<br>\"\n",
        "    f\"**Pergunta:** {pergunta}<br>\"\n",
        "    f\"**Contexto:** {contexto}<br>\"\n",
        "    f\"**Resposta:** {resposta_qa['answer']}\"\n",
        "))"
      ],
      "metadata": {
        "id": "y3JBpVqDG_Sf"
      },
      "execution_count": null,
      "outputs": []
    },
    {
      "cell_type": "code",
      "source": [
        "# --- 4. Classificação de Resenhas ---\n",
        "\n",
        "# 📌 Tarefa: classificar avaliações como positivas ou negativas.\n",
        "# 🧠 Modelo: distilbert-base-uncased-finetuned-sst-2-english\n",
        "# 🔗 Link: https://huggingface.co/distilbert-base-uncased-finetuned-sst-2-english\n",
        "\n",
        "modelo_finetuned = pipeline(\"text-classification\", model=\"distilbert-base-uncased-finetuned-sst-2-english\")\n",
        "\n",
        "resenhas = [\n",
        "    \"Esse produto é ótimo\",\n",
        "    \"O atendimento foi horrível\",\n",
        "    \"Super recomendo\",\n",
        "    \"Nunca mais compro\",\n",
        "    \"Produto de qualidade\"\n",
        "]\n",
        "\n",
        "display(Markdown(\"### 📊 Classificação de Resenhas\\nModelo treinado para identificar sentimentos em textos de clientes.\"))\n",
        "\n",
        "for r in resenhas:\n",
        "    resultado = modelo_finetuned(r)[0]\n",
        "    display(Markdown(f\"**Resenha:** {r}<br>**Classificação:** {resultado['label']} (score: {round(resultado['score'], 2)})\"))"
      ],
      "metadata": {
        "id": "XnXc3miyHYQ9"
      },
      "execution_count": null,
      "outputs": []
    }
  ]
}