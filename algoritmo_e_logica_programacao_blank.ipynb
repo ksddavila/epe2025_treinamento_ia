{
  "nbformat": 4,
  "nbformat_minor": 0,
  "metadata": {
    "colab": {
      "provenance": []
    },
    "kernelspec": {
      "name": "python3",
      "display_name": "Python 3"
    },
    "language_info": {
      "name": "python"
    }
  },
  "cells": [
    {
      "cell_type": "markdown",
      "source": [
        "# **Algoritmo e lógica de programação**\n",
        "**Objetivo**: Conhecer a base para seguir para lógica de programação em qualquer linguagem.\n",
        "\n",
        "**Lógica de Programação**: A lógica, o raciocínio que você vai fazer para criar um algoritmo.\n",
        "\n",
        "**Algoritmo**: O passo a passo que você vai passar de instruções para o seu computador executar."
      ],
      "metadata": {
        "id": "GbWTHldIO6Ck"
      }
    },
    {
      "cell_type": "markdown",
      "source": [
        "## 📖 **Variáveis, Tipos de Dados e Operadores**\n",
        "\n",
        "Para começar a programar em Python, é essencial entender alguns conceitos fundamentais, como variáveis, tipos de dados e operadores. Esses elementos são a base para escrever código eficiente e funcional.\n",
        "\n",
        "### **1. Variáveis:** Variáveis são como “caixas” que armazenam dados. Elas têm um nome e um valor associado."
      ],
      "metadata": {
        "id": "n1SQ_KhkQuz1"
      }
    },
    {
      "cell_type": "code",
      "execution_count": null,
      "metadata": {
        "id": "c-lrX9ZqOmN_"
      },
      "outputs": [],
      "source": []
    },
    {
      "cell_type": "markdown",
      "source": [
        "## **2. Tipos de Dados:** Em Python, os dados podem ser de diferentes tipos. Os principais são:\n",
        "\n",
        "**Texto (str)**: \"Olá, mundo!\"\n",
        "\n",
        "**Números inteiros (int)**: 10, -5\n",
        "\n",
        "**Números decimais (float)**: 3.14, -0.5\n",
        "\n",
        "**Booleanos (bool)**: True, False\n",
        "\n",
        "**Listas (list)**: [1, 2, 3, 4]\n",
        "\n",
        "**Dicionários (dict)**: {\"nome\": \"Ana\", \"idade\": 25}"
      ],
      "metadata": {
        "id": "Lue4TJfUOrpe"
      }
    },
    {
      "cell_type": "code",
      "source": [],
      "metadata": {
        "id": "Ov8heRWBQ8KP"
      },
      "execution_count": null,
      "outputs": []
    },
    {
      "cell_type": "code",
      "source": [],
      "metadata": {
        "id": "0zoBMHA7UbeL"
      },
      "execution_count": null,
      "outputs": []
    },
    {
      "cell_type": "code",
      "source": [],
      "metadata": {
        "id": "wwTExODVUdna"
      },
      "execution_count": null,
      "outputs": []
    },
    {
      "cell_type": "code",
      "source": [],
      "metadata": {
        "id": "0xiTQP4bUfn1"
      },
      "execution_count": null,
      "outputs": []
    },
    {
      "cell_type": "code",
      "source": [],
      "metadata": {
        "id": "T22GFL20Ug9o"
      },
      "execution_count": null,
      "outputs": []
    },
    {
      "cell_type": "code",
      "source": [],
      "metadata": {
        "id": "ZyZXFStdUj1C"
      },
      "execution_count": null,
      "outputs": []
    },
    {
      "cell_type": "code",
      "source": [],
      "metadata": {
        "id": "b5LtFI5yU2KO"
      },
      "execution_count": null,
      "outputs": []
    },
    {
      "cell_type": "code",
      "source": [],
      "metadata": {
        "id": "j-6R4lLhU5zS"
      },
      "execution_count": null,
      "outputs": []
    },
    {
      "cell_type": "markdown",
      "source": [
        "## **3. Operadores:** Operadores são símbolos que realizam operações entre variáveis e valores. Os principais tipos de operadores são:\n",
        "\n",
        "**Aritméticos**: + (soma), - (subtração), * (multiplicação), / (divisão).\n",
        "\n",
        "**Comparação**: == (igual), != (diferente), > (maior), < (menor).\n",
        "\n",
        "**Lógicos**: and (e), or (ou), not (não)."
      ],
      "metadata": {
        "id": "-mxuMWeJRfvJ"
      }
    },
    {
      "cell_type": "code",
      "source": [],
      "metadata": {
        "id": "qyFC_R_gRulc"
      },
      "execution_count": null,
      "outputs": []
    },
    {
      "cell_type": "markdown",
      "source": [
        "## 📖 **Estruturas de Controle**\n",
        "\n",
        "As estruturas de controle permitem que o programa tome decisões e repita tarefas com base em condições específicas.\n",
        "\n",
        "### **1. Condicionais (if, else)**: Usadas para executar blocos de código apenas se uma condição for verdadeira."
      ],
      "metadata": {
        "id": "Si6asEK5SL4d"
      }
    },
    {
      "cell_type": "code",
      "source": [],
      "metadata": {
        "id": "t8R5eA6NRu9N"
      },
      "execution_count": null,
      "outputs": []
    },
    {
      "cell_type": "markdown",
      "source": [
        "Você precisa criar um programa que vai analisar o resultado de vendas dos produtos em um mês. Para simplificar vamos pensar em um único produto: um Iphone.\n",
        "\n",
        "**Meta de Vendas do Iphone** = 50.000 unidades\n",
        "\n",
        "**Quantidade vendida no Mês** = 65.300 unidades\n",
        "\n",
        "O seu programa deve avisar caso o produto tenha batido a meta do mês. Então devemos fazer:\n",
        "\n",
        "Caso o produto tenha batido a meta, devemos exibir a mensagem: **\"Batemos a meta de vendas de Iphone, vendemos {} unidades\"**\n",
        "Se ele não bateu a meta do mês, o seu programa não deve fazer nada"
      ],
      "metadata": {
        "id": "P83_fZgdVGBj"
      }
    },
    {
      "cell_type": "code",
      "source": [],
      "metadata": {
        "id": "TOm67IsRVh4u"
      },
      "execution_count": null,
      "outputs": []
    },
    {
      "cell_type": "markdown",
      "source": [
        "Quando usamos o if, nem sempre queremos apenas analisar o caso verdadeiro, em boa parte das vezes queremos fazer alguma coisa caso a condição seja verdadeira e fazer outra coisa caso a condição seja falsa.\n",
        "\n",
        "Nesse caso usaremos:\n",
        "\n",
        "```\n",
        "if condição:\n",
        "    o que eu quero fazer caso a condição seja verdadeira\n",
        "    \n",
        "else:\n",
        "    o que eu quero fazer caso a condição seja falsa\n",
        "```    \n",
        "* Caso o produto tenha batido a meta, devemos exibir a mensagem: \"Batemos a meta de vendas de Iphone, vendemos {} unidades\"\n",
        "* Se ele não bateu a meta do mês, devemos exibir a mensagem: \"Infelizmente não batemos a meta, vendemos {} unidades. A meta era de {} unidades\""
      ],
      "metadata": {
        "id": "NrxPtjqAVlh0"
      }
    },
    {
      "cell_type": "code",
      "source": [],
      "metadata": {
        "id": "kUJ6uQ6CV-aU"
      },
      "execution_count": null,
      "outputs": []
    },
    {
      "cell_type": "markdown",
      "source": [
        "### **2. Loops (for, while):**\n",
        "\n",
        "**For**: Repete um bloco de código um número específico de vezes."
      ],
      "metadata": {
        "id": "p_5K7WiAStsD"
      }
    },
    {
      "cell_type": "code",
      "source": [],
      "metadata": {
        "id": "HNsstB-cSyVH"
      },
      "execution_count": null,
      "outputs": []
    },
    {
      "cell_type": "markdown",
      "source": [
        "**While**: Repete um bloco de código enquanto uma condição for verdadeira."
      ],
      "metadata": {
        "id": "NNcr23CKS-v6"
      }
    },
    {
      "cell_type": "code",
      "source": [],
      "metadata": {
        "id": "VJgRyFW5TAP4"
      },
      "execution_count": null,
      "outputs": []
    },
    {
      "cell_type": "markdown",
      "source": [
        "**Crie um programa que funcione como o registro de vendas de uma empresa.**\n",
        "\n",
        "Nele, a pessoa deve inserir o nome do produto e o produto deve ser adicionado na lista de venda. Enquanto o usuário não encerrar o programa, significa que ele está registrando novos produtos, então o programa deve permitir e entrada de quantos produtos o usuário quiser."
      ],
      "metadata": {
        "id": "hw4urA36X7rb"
      }
    },
    {
      "cell_type": "code",
      "source": [],
      "metadata": {
        "id": "hWx1yy_2YC7O"
      },
      "execution_count": null,
      "outputs": []
    },
    {
      "cell_type": "markdown",
      "source": [
        "## 📖 **Funções e Modularização**\n",
        "\n",
        "Funções são blocos de código que realizam tarefas específicas e podem ser reutilizados em diferentes partes do programa. Elas ajudam a organizar o código e evitar repetições.\n",
        "\n",
        "**Criando Funções**: Use a palavra-chave **def** para definir uma função."
      ],
      "metadata": {
        "id": "lR4SA2c6TPkM"
      }
    },
    {
      "cell_type": "code",
      "source": [],
      "metadata": {
        "id": "MF-cXydXTZ_P"
      },
      "execution_count": null,
      "outputs": []
    },
    {
      "cell_type": "markdown",
      "source": [
        "**Criando Funções**: Funções podem retornar valores usando a palavra-chave return."
      ],
      "metadata": {
        "id": "-GX00HpZTrIn"
      }
    },
    {
      "cell_type": "code",
      "source": [],
      "metadata": {
        "id": "lHmAj8tmTscR"
      },
      "execution_count": null,
      "outputs": []
    },
    {
      "cell_type": "markdown",
      "source": [
        "**Modularização**: Dividir o código em funções e módulos torna o programa mais organizado e fácil de manter."
      ],
      "metadata": {
        "id": "2ILoJ9G3T6DO"
      }
    },
    {
      "cell_type": "code",
      "source": [],
      "metadata": {
        "id": "kUKCbg8MT7Hq"
      },
      "execution_count": null,
      "outputs": []
    }
  ]
}