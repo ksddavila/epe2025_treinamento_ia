{
  "nbformat": 4,
  "nbformat_minor": 0,
  "metadata": {
    "colab": {
      "provenance": [],
      "gpuType": "T4"
    },
    "kernelspec": {
      "name": "python3",
      "display_name": "Python 3"
    },
    "language_info": {
      "name": "python"
    },
    "accelerator": "GPU"
  },
  "cells": [
    {
      "cell_type": "markdown",
      "source": [
        "# **Objetivo do Projeto**\n",
        "\n",
        "Este projeto tem como objetivo demonstrar, de forma prática e acessível, como os embeddings semânticos podem ser utilizados para identificar produtos similares com base em suas descrições. Utilizando um modelo de linguagem pré-treinado e a biblioteca FAISS, mostramos como transformar textos em vetores e realizar buscas por similaridade de forma inteligente, indo além da correspondência literal de palavras."
      ],
      "metadata": {
        "id": "i3rkjI2kHqYo"
      }
    },
    {
      "cell_type": "markdown",
      "source": [
        "# **O que é FAISS?**\n",
        "FAISS é uma ferramenta criada pelo Facebook que ajuda a encontrar itens parecidos de forma rápida e eficiente. No nosso projeto, usamos o FAISS para comparar os vetores dos produtos e descobrir quais são os mais semelhantes entre si. Ele funciona como um \"GPS de similaridade\", ajudando a localizar os produtos mais próximos em significado dentro de um grande conjunto de dados."
      ],
      "metadata": {
        "id": "uLGInHz1Hy4T"
      }
    },
    {
      "cell_type": "markdown",
      "source": [
        "# **O que é o modelo MPNet?**\n",
        "MPNet é um modelo de linguagem treinado para entender o significado de frases e textos. Ele transforma uma descrição de produto em um vetor de números que representa o que aquele texto quer dizer. Diferente de uma busca por palavras exatas, o MPNet consegue perceber que \"camiseta esportiva\" e \"blusa para academia\" têm sentidos parecidos, mesmo com palavras diferentes. Isso permite fazer recomendações mais inteligentes e próximas do que a pessoa realmente procura."
      ],
      "metadata": {
        "id": "gYvQe88RH2wX"
      }
    },
    {
      "cell_type": "markdown",
      "source": [
        "# **Instalação e importação de bibliotecas**\n",
        "\n",
        "Instala a biblioteca FAISS, usada para buscas rápidas de similaridade."
      ],
      "metadata": {
        "id": "6WbrePwbDqbh"
      }
    },
    {
      "cell_type": "code",
      "execution_count": null,
      "metadata": {
        "id": "wsjr1__0DmGW"
      },
      "outputs": [],
      "source": [
        "%pip install -q faiss-cpu"
      ]
    },
    {
      "cell_type": "markdown",
      "source": [
        "Importa bibliotecas essenciais: manipulação de dados, uso de modelo de linguagem e construção de índice FAISS."
      ],
      "metadata": {
        "id": "3xxyHr51D2cK"
      }
    },
    {
      "cell_type": "code",
      "source": [
        "import pandas as pd\n",
        "import torch\n",
        "import numpy as np\n",
        "import faiss\n",
        "import joblib\n",
        "from sentence_transformers import SentenceTransformer"
      ],
      "metadata": {
        "id": "sEJQWLyADw22"
      },
      "execution_count": null,
      "outputs": []
    },
    {
      "cell_type": "markdown",
      "source": [
        "# **Carrega os dados dos produtos**\n",
        "Lê a base com as descrições dos produtos."
      ],
      "metadata": {
        "id": "d_s0jEM7D6yH"
      }
    },
    {
      "cell_type": "code",
      "source": [
        "url = \"https://raw.githubusercontent.com/ksddavila/epe2025_treinamento_ia/main/base_produtos_utensilios_domesticos.csv\"\n",
        "df_produtos = pd.read_csv(url)\n"
      ],
      "metadata": {
        "id": "1lRpHK8_EH0w"
      },
      "execution_count": null,
      "outputs": []
    },
    {
      "cell_type": "code",
      "source": [
        "df_produtos.head()"
      ],
      "metadata": {
        "id": "UKQPjzpVFZ_5"
      },
      "execution_count": null,
      "outputs": []
    },
    {
      "cell_type": "markdown",
      "source": [
        "# **Escolhe e carrega o modelo de linguagem**\n",
        "O modelo **all-mpnet-base-v2** converte textos em vetores numéricos (chamados embeddings) que capturam o significado do texto."
      ],
      "metadata": {
        "id": "AC4Q5pSLFR5F"
      }
    },
    {
      "cell_type": "code",
      "source": [
        "encoder_model_name = \"all-mpnet-base-v2\"\n",
        "device = torch.device(\"cuda\" if torch.cuda.is_available() else \"cpu\")\n",
        "embedding_model = SentenceTransformer(encoder_model_name, device=device)"
      ],
      "metadata": {
        "id": "cfoY6l3KFVPL"
      },
      "execution_count": null,
      "outputs": []
    },
    {
      "cell_type": "markdown",
      "source": [
        "# **Função que transforma texto em embedding**\n",
        "Essa função recebe um texto e retorna um vetor numérico que representa seu significado. Isso será usado para comparar produtos de forma semântica, não apenas por palavras exatas."
      ],
      "metadata": {
        "id": "_2WoE1AuFef0"
      }
    },
    {
      "cell_type": "code",
      "source": [
        "def get_text_embedding(text: str) -> np.ndarray:\n",
        "    if not text or pd.isna(text):\n",
        "        return None\n",
        "    embedding = embedding_model.encode(\n",
        "        text,\n",
        "        convert_to_numpy=True,\n",
        "        normalize_embeddings=True\n",
        "    )\n",
        "    return embedding.astype(np.float32)"
      ],
      "metadata": {
        "id": "s0chUqtFFhcw"
      },
      "execution_count": null,
      "outputs": []
    },
    {
      "cell_type": "markdown",
      "source": [
        "## **Aplica a função aos produtos**\n",
        "Para cada descrição de produto, geramos um embedding. Removemos os que falharam."
      ],
      "metadata": {
        "id": "_pWKL3mZFnOQ"
      }
    },
    {
      "cell_type": "code",
      "source": [
        "df_produtos['embedding'] = df_produtos['TEXTO_DESCRITIVO'].apply(get_text_embedding)\n",
        "df_local = df_produtos[df_produtos[\"embedding\"].notnull()].copy()"
      ],
      "metadata": {
        "id": "n9-dZcntFhw6"
      },
      "execution_count": null,
      "outputs": []
    },
    {
      "cell_type": "code",
      "source": [
        "df_produtos.head()"
      ],
      "metadata": {
        "id": "BtcmWvBBF0f_"
      },
      "execution_count": null,
      "outputs": []
    },
    {
      "cell_type": "markdown",
      "source": [
        "# **Prepara os dados para o FAISS**\n",
        "Agora temos dois itens: uma lista de códigos e uma matriz de vetores representando os significados de cada descrição."
      ],
      "metadata": {
        "id": "t4nOX6ayFu53"
      }
    },
    {
      "cell_type": "code",
      "source": [
        "product_codes = df_local[\"CODIGO_PRODUTO\"].tolist()\n",
        "product_embeddings = np.stack(df_local[\"embedding\"].values).astype(\"float32\")\n",
        "\n",
        "# Normaliza os vetores (importante para usar o FAISS corretamente)\n",
        "product_embeddings = product_embeddings / np.linalg.norm(product_embeddings, axis=1, keepdims=True)"
      ],
      "metadata": {
        "id": "uCYR0rXsFx-S"
      },
      "execution_count": null,
      "outputs": []
    },
    {
      "cell_type": "markdown",
      "source": [
        "# **Cria o índice de busca FAISS**\n",
        "Esse índice permite encontrar rapidamente os produtos mais similares com base nos seus significados (e não por palavras exatas!)."
      ],
      "metadata": {
        "id": "dgi8CLbJF7aZ"
      }
    },
    {
      "cell_type": "code",
      "source": [
        "embedding_dim = product_embeddings.shape[1]\n",
        "faiss_index_products = faiss.IndexFlatIP(embedding_dim)\n",
        "faiss_index_products.add(product_embeddings)"
      ],
      "metadata": {
        "id": "lZpuPvaVF-fJ"
      },
      "execution_count": null,
      "outputs": []
    },
    {
      "cell_type": "markdown",
      "source": [
        "# **Cria um dicionário auxiliar**\n",
        "Usamos esse dicionário para recuperar rapidamente o vetor de um produto específico."
      ],
      "metadata": {
        "id": "AtFaeNj6GCss"
      }
    },
    {
      "cell_type": "code",
      "source": [
        "product_emb_dict = {\n",
        "    row[\"CODIGO_PRODUTO\"]: np.array(row[\"embedding\"], dtype=np.float32)\n",
        "    for _, row in df_local.iterrows()\n",
        "}"
      ],
      "metadata": {
        "id": "2kkgxnYkGFaA"
      },
      "execution_count": null,
      "outputs": []
    },
    {
      "cell_type": "markdown",
      "source": [
        "# **Salva o índice e os dados auxiliares**\n",
        "Agora tudo está salvo em disco. Podemos usar depois sem recalcular."
      ],
      "metadata": {
        "id": "H_pOLcGTGPdL"
      }
    },
    {
      "cell_type": "code",
      "source": [
        "faiss.write_index(faiss_index_products, \"faiss_produtos.index\")\n",
        "joblib.dump(product_codes, \"faiss_product_codes.joblib\")\n",
        "joblib.dump(product_emb_dict, \"product_emb_dict.joblib\")\n",
        "\n",
        "print(f\"Índice FAISS salvo com {len(product_codes)} produtos.\")"
      ],
      "metadata": {
        "id": "IabwKlFpGSd8"
      },
      "execution_count": null,
      "outputs": []
    },
    {
      "cell_type": "markdown",
      "source": [
        "# **(Opcional) Recarrega os dados salvos**"
      ],
      "metadata": {
        "id": "dt8apLkHGXlI"
      }
    },
    {
      "cell_type": "code",
      "source": [
        "faiss_index_products = faiss.read_index(\"faiss_produtos.index\")\n",
        "product_codes = joblib.load(\"faiss_product_codes.joblib\")\n",
        "product_emb_dict = joblib.load(\"product_emb_dict.joblib\")"
      ],
      "metadata": {
        "id": "E4Hgkt3vGbgK"
      },
      "execution_count": null,
      "outputs": []
    },
    {
      "cell_type": "markdown",
      "source": [
        "# **🔎 Função de busca por similaridade**\n",
        "Essa função permite buscar os produtos mais semelhantes semanticamente a outro, com base em suas descrições."
      ],
      "metadata": {
        "id": "FFmqeiszGeWZ"
      }
    },
    {
      "cell_type": "code",
      "source": [
        "def buscar_similares_produto(codigo_produto_consulta,\n",
        "                              faiss_index,\n",
        "                              product_codes,\n",
        "                              product_emb_dict,\n",
        "                              df_produtos,\n",
        "                              k=3):\n",
        "    if codigo_produto_consulta not in product_emb_dict:\n",
        "        print(f\"Aviso: Código {codigo_produto_consulta} não encontrado.\")\n",
        "        return []\n",
        "\n",
        "    descricao_base = df_produtos.loc[df_produtos[\"CODIGO_PRODUTO\"] == codigo_produto_consulta, \"DESCRICAO_MATERIAL\"].values[0]\n",
        "    print(f\"\\n🔍 Produto consultado: {codigo_produto_consulta} - {descricao_base}\")\n",
        "\n",
        "    query_vector = product_emb_dict[codigo_produto_consulta].reshape(1, -1)\n",
        "    D, I = faiss_index.search(query_vector, k + 1)\n",
        "\n",
        "    similares = []\n",
        "    print(\"\\n📦 Produtos similares:\")\n",
        "    for idx, score in zip(I[0], D[0]):\n",
        "        codigo_similar = product_codes[idx]\n",
        "        if codigo_similar == codigo_produto_consulta:\n",
        "            continue\n",
        "        descricao_similar = df_produtos.loc[df_produtos[\"CODIGO_PRODUTO\"] == codigo_similar, \"DESCRICAO_MATERIAL\"].values[0]\n",
        "        print(f\"→ {codigo_similar} | Similaridade: {score:.4f} | {descricao_similar}\")\n",
        "        similares.append((codigo_similar, descricao_similar, float(score)))\n",
        "\n",
        "        if len(similares) >= k:\n",
        "            break\n",
        "\n",
        "    return similares"
      ],
      "metadata": {
        "id": "JtG2BMQnGh5C"
      },
      "execution_count": null,
      "outputs": []
    },
    {
      "cell_type": "markdown",
      "source": [
        "# **🚀 Exemplo de uso**\n",
        "Aqui buscamos os 3 produtos mais similares ao produto de código 170759."
      ],
      "metadata": {
        "id": "sPFt4KiNGlR9"
      }
    },
    {
      "cell_type": "code",
      "source": [
        "produto_pesquisa = 170759"
      ],
      "metadata": {
        "id": "j_1ZCxAYHIlw"
      },
      "execution_count": null,
      "outputs": []
    },
    {
      "cell_type": "code",
      "source": [
        "resultados = buscar_similares_produto(\n",
        "    codigo_produto_consulta=produto_pesquisa,\n",
        "    faiss_index=faiss_index_products,\n",
        "    product_codes=product_codes,\n",
        "    product_emb_dict=product_emb_dict,\n",
        "    df_produtos=df_produtos\n",
        ")"
      ],
      "metadata": {
        "id": "4hZrl1vJGohp"
      },
      "execution_count": null,
      "outputs": []
    }
  ]
}